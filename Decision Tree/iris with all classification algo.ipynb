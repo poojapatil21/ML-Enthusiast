{
 "cells": [
  {
   "cell_type": "code",
   "execution_count": null,
   "metadata": {},
   "outputs": [],
   "source": [
    "#Create the model that can classify the different species of the Iris flower.\n",
    "#1.create the dataset.\n",
    "#2.Build the model\n",
    "#3.Train the model\n",
    "#4.Make predictions."
   ]
  },
  {
   "cell_type": "code",
   "execution_count": null,
   "metadata": {},
   "outputs": [],
   "source": [
    "#1.create the dataset."
   ]
  },
  {
   "cell_type": "code",
   "execution_count": 88,
   "metadata": {},
   "outputs": [
    {
     "name": "stdout",
     "output_type": "stream",
     "text": [
      "<class 'numpy.ndarray'>\n",
      "<class 'numpy.ndarray'>\n",
      "(150, 4)\n",
      "(150,)\n"
     ]
    }
   ],
   "source": [
    "#iris Dataset\n",
    "from sklearn.datasets import load_iris\n",
    "iris= load_iris()\n",
    "iris.data\n",
    "\n",
    "#Requirements for working data in scikit-learn\n",
    "#Features and response are separate objects\n",
    "#Features and response should be numeric\n",
    "#Features and response should be numpy Arrays\n",
    "#Features and reesponse should have specific shapes\n",
    "\n",
    "iris.feature_names\n",
    "\n",
    "iris.target\n",
    "\n",
    "iris.target_names\n",
    "\n",
    "print(type(iris.data))\n",
    "print(type(iris.target))\n",
    "\n",
    "\n",
    "print (iris.data.shape)\n",
    "\n",
    "print (iris.target.shape)"
   ]
  },
  {
   "cell_type": "code",
   "execution_count": 89,
   "metadata": {},
   "outputs": [],
   "source": [
    "#2.Build The Model\n",
    "#Import the class you plan to use -\n",
    "#Make an instance of the class -\n",
    "#   Name of the object does not matter\n",
    "#   can specify tuning parameters (hyperparameters) during this step,\n",
    "#   All parameters not specified are set to their defaults"
   ]
  },
  {
   "cell_type": "code",
   "execution_count": 90,
   "metadata": {},
   "outputs": [],
   "source": [
    "#X =features, y= labels\n",
    "X=iris.data\n",
    "y=iris.target\n",
    "\n",
    "# create training and testing dataset\n",
    "from sklearn.model_selection import train_test_split\n",
    "X_train,X_test,y_train,y_test = train_test_split(X,y,test_size=0.5)"
   ]
  },
  {
   "cell_type": "code",
   "execution_count": 128,
   "metadata": {},
   "outputs": [
    {
     "name": "stdout",
     "output_type": "stream",
     "text": [
      "KNeighborsClassifier(algorithm='auto', leaf_size=30, metric='minkowski',\n",
      "           metric_params=None, n_jobs=1, n_neighbors=8, p=2,\n",
      "           weights='uniform')\n",
      "Accuracy: 0.9733333333333334\n",
      "Confusion Matrix: [[23  0  0]\n",
      " [ 0 24  2]\n",
      " [ 0  0 26]]\n",
      "             precision    recall  f1-score   support\n",
      "\n",
      "          0       1.00      1.00      1.00        23\n",
      "          1       1.00      0.92      0.96        26\n",
      "          2       0.93      1.00      0.96        26\n",
      "\n",
      "avg / total       0.98      0.97      0.97        75\n",
      "\n"
     ]
    },
    {
     "data": {
      "text/plain": [
       "0.9733333333333334"
      ]
     },
     "execution_count": 128,
     "metadata": {},
     "output_type": "execute_result"
    }
   ],
   "source": [
    "#KNN Classifier\n",
    "from sklearn.neighbors import KNeighborsClassifier\n",
    "knn = KNeighborsClassifier(n_neighbors=8)\n",
    "print (knn)\n",
    "\n",
    "#Fit the model\n",
    "knn.fit(X_train,y_train)\n",
    "\n",
    "#predict the values\n",
    "predict1=knn.predict(X_test)\n",
    "\n",
    "#we can measure accuracy value of predicted with expected value(change value of n_newighbors and chk accuracy again)\n",
    "from sklearn.metrics import accuracy_score\n",
    "from sklearn import metrics\n",
    "print(\"Accuracy:\",accuracy_score(y_test,predict1))\n",
    "\n",
    "from sklearn.metrics import classification_report,confusion_matrix\n",
    "print(\"Confusion Matrix:\",confusion_matrix(y_test,predict1))\n",
    "\n",
    "print(classification_report(y_test,predict1))\n",
    "knn.score(X_test,y_test)"
   ]
  },
  {
   "cell_type": "code",
   "execution_count": 127,
   "metadata": {},
   "outputs": [
    {
     "name": "stdout",
     "output_type": "stream",
     "text": [
      "DecisionTreeClassifier(class_weight=None, criterion='gini', max_depth=None,\n",
      "            max_features=None, max_leaf_nodes=None,\n",
      "            min_impurity_decrease=0.0, min_impurity_split=None,\n",
      "            min_samples_leaf=1, min_samples_split=2,\n",
      "            min_weight_fraction_leaf=0.0, presort=False, random_state=None,\n",
      "            splitter='best')\n",
      "Accuracy: 0.9466666666666667\n",
      "Confusion Matrix: [[23  0  0]\n",
      " [ 0 23  3]\n",
      " [ 0  1 25]]\n",
      "             precision    recall  f1-score   support\n",
      "\n",
      "          0       1.00      1.00      1.00        23\n",
      "          1       0.96      0.88      0.92        26\n",
      "          2       0.89      0.96      0.93        26\n",
      "\n",
      "avg / total       0.95      0.95      0.95        75\n",
      "\n"
     ]
    },
    {
     "data": {
      "text/plain": [
       "0.9466666666666667"
      ]
     },
     "execution_count": 127,
     "metadata": {},
     "output_type": "execute_result"
    }
   ],
   "source": [
    "# Decision Tree Algorithm\n",
    "from sklearn import tree\n",
    "DT = tree.DecisionTreeClassifier()\n",
    "print(DT)\n",
    "\n",
    "#Fit the model\n",
    "DT.fit(X_train,y_train)\n",
    "\n",
    "#predict the values\n",
    "predict2=DT.predict(X_test)\n",
    "\n",
    "#we can measure accuracy value of predicted with expected value\n",
    "from sklearn.metrics import accuracy_score\n",
    "print(\"Accuracy:\",accuracy_score(y_test,predict2))\n",
    "\n",
    "from sklearn.metrics import classification_report,confusion_matrix\n",
    "print(\"Confusion Matrix:\",confusion_matrix(y_test,predict2))\n",
    "\n",
    "print(classification_report(y_test,predict2))\n",
    "DT.score(X_test,y_test)"
   ]
  },
  {
   "cell_type": "code",
   "execution_count": 132,
   "metadata": {},
   "outputs": [
    {
     "name": "stdout",
     "output_type": "stream",
     "text": [
      "[2 0 2 1 2 2 0 0 0 2 0 2 0 1 0 0 2 2 1 1 1 1 1 1 0 2 0 2 1 0 0 1 1 2 1 1 0\n",
      " 2 2 0 1 2 2 1 2 0 1 2 2 1 1 1 0 0 1 0 0 2 0 0 0 2 2 0 1 1 2 2 2 2 1 2 2 2\n",
      " 2]\n",
      "Accuracy: 0.96\n",
      "Confusion Matrix: [[23  0  0]\n",
      " [ 0 23  3]\n",
      " [ 0  0 26]]\n",
      "             precision    recall  f1-score   support\n",
      "\n",
      "          0       1.00      1.00      1.00        23\n",
      "          1       1.00      0.88      0.94        26\n",
      "          2       0.90      1.00      0.95        26\n",
      "\n",
      "avg / total       0.96      0.96      0.96        75\n",
      "\n"
     ]
    },
    {
     "data": {
      "text/plain": [
       "0.96"
      ]
     },
     "execution_count": 132,
     "metadata": {},
     "output_type": "execute_result"
    }
   ],
   "source": [
    "#SVM Classifier\n",
    "from sklearn.svm import SVC\n",
    "svm1 = SVC()\n",
    "\n",
    "#Fit the model\n",
    "svm1.fit(X_train,y_train)\n",
    "\n",
    "#predict the values\n",
    "predict3 = svm1.predict(X_test)\n",
    "print(predict3)\n",
    "\n",
    "#we can measure accuracy value of predicted with expected value\n",
    "from sklearn.metrics import accuracy_score\n",
    "print(\"Accuracy:\",accuracy_score(y_test,predict3))\n",
    "\n",
    "\n",
    "from sklearn.metrics import classification_report,confusion_matrix\n",
    "print(\"Confusion Matrix:\",confusion_matrix(y_test,predict3))\n",
    "\n",
    "print(classification_report(y_test,predict3))\n",
    "svm1.score(X_test,y_test)"
   ]
  },
  {
   "cell_type": "code",
   "execution_count": null,
   "metadata": {},
   "outputs": [],
   "source": []
  }
 ],
 "metadata": {
  "kernelspec": {
   "display_name": "Python 3",
   "language": "python",
   "name": "python3"
  },
  "language_info": {
   "codemirror_mode": {
    "name": "ipython",
    "version": 3
   },
   "file_extension": ".py",
   "mimetype": "text/x-python",
   "name": "python",
   "nbconvert_exporter": "python",
   "pygments_lexer": "ipython3",
   "version": "3.6.5"
  }
 },
 "nbformat": 4,
 "nbformat_minor": 2
}
