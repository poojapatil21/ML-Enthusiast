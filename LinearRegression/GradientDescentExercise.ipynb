{
 "cells": [
  {
   "cell_type": "code",
   "execution_count": 1,
   "metadata": {},
   "outputs": [],
   "source": [
    "import numpy as np\n",
    "import pandas as pd\n",
    "import matplotlib.pyplot as plt"
   ]
  },
  {
   "cell_type": "code",
   "execution_count": 8,
   "metadata": {},
   "outputs": [
    {
     "data": {
      "text/plain": [
       "0    53.426804\n",
       "1    61.530358\n",
       "2    47.475640\n",
       "3    59.813208\n",
       "4    55.142188\n",
       "Name: 32.50234527, dtype: float64"
      ]
     },
     "execution_count": 8,
     "metadata": {},
     "output_type": "execute_result"
    }
   ],
   "source": [
    "data = pd.read_csv('LinearData.csv')\n",
    "\n",
    "X= data.iloc[:,0]\n",
    "y=data.iloc[:,1]\n",
    "\n",
    "X.head()"
   ]
  },
  {
   "cell_type": "code",
   "execution_count": 9,
   "metadata": {},
   "outputs": [
    {
     "data": {
      "text/plain": [
       "0    68.777596\n",
       "1    62.562382\n",
       "2    71.546632\n",
       "3    87.230925\n",
       "4    78.211518\n",
       "Name: 31.70700585, dtype: float64"
      ]
     },
     "execution_count": 9,
     "metadata": {},
     "output_type": "execute_result"
    }
   ],
   "source": [
    "y.head()"
   ]
  },
  {
   "cell_type": "code",
   "execution_count": 10,
   "metadata": {},
   "outputs": [
    {
     "data": {
      "image/png": "[encoded data removed]",
      "text/plain": [
       "<Figure size 432x288 with 1 Axes>"
      ]
     },
     "metadata": {},
     "output_type": "display_data"
    }
   ],
   "source": [
    "plt.scatter(X,y)\n",
    "plt.show()"
   ]
  },
  {
   "cell_type": "code",
   "execution_count": 17,
   "metadata": {},
   "outputs": [
    {
     "name": "stdout",
     "output_type": "stream",
     "text": [
      "7.370788793734556 7.513628532446136\n",
      "-24.851591583412784 -25.47386283309703\n",
      "116.027131048152 118.74992525333397\n",
      "-499.90546194931983 -511.8075507946854\n",
      "2192.9991302444905 2245.0381530968334\n",
      "-9580.586526860485 -9808.102954195925\n",
      "41894.43402418755 42889.1554912942\n",
      "-183158.3084367995 -187507.3048961607\n",
      "800789.562724957 819803.7113681196\n",
      "-3501106.0843879953 -3584237.4001186183\n",
      "15307112.01440091 15670568.512355065\n",
      "-66923861.73992884 -68512921.4555378\n",
      "292596269.7828271 299543760.88075584\n",
      "-1279253351.7028244 -1309628316.2577105\n",
      "5592993891.031067 5725795568.469256\n",
      "-24452998753.37069 -25033617884.56914\n",
      "106910388229.24191 109448899654.8382\n",
      "-467420426657.6105 -478518993534.9626\n",
      "2043597997161.3184 2092121783774.63\n",
      "-8934767365317.574 -9146917086386.408\n",
      "39063488995053.7 39991023865904.82\n",
      "-170788573454043.06 -174843827132013.5\n",
      "746700757481289.2 764430637952093.0\n",
      "-3264633048610580.0 -3342149447453059.5\n",
      "1.427322636986544e+16 1.4612134017855578e+16\n",
      "-6.240364168711915e+16 -6.388537194782966e+16\n",
      "2.7283351324379418e+17 2.7931175172122486e+17\n",
      "-1.1928490699656799e+18 -1.2211724260334295e+18\n",
      "5.215227729177629e+18 5.339059616771043e+18\n",
      "-2.2801376093595644e+19 -2.3342778614831768e+19\n",
      "9.968936713020133e+19 1.0205642052571477e+20\n",
      "-4.35849567939516e+20 -4.461985071436023e+20\n",
      "1.9055677786072741e+21 1.9508141354714142e+21\n",
      "-8.33128865088188e+21 -8.52910919742338e+21\n",
      "3.6425033716220423e+22 3.7289920335743866e+22\n",
      "-1.5925304437595645e+23 -1.6303439508855173e+23\n",
      "6.9626653857335e+23 7.127988942473499e+23\n",
      "-3.044130770853295e+24 -3.1164114993298253e+24\n",
      "1.3309173479804742e+25 1.3625190374923591e+25\n",
      "-5.818872842505571e+25 -5.957037855650097e+25\n",
      "2.544055888115573e+26 2.6044626927898857e+26\n",
      "-1.1122807693231214e+27 -1.1386910881723918e+27\n",
      "4.8629769321712005e+27 4.978444874149057e+27\n",
      "-2.1261308560805684e+28 -2.1766143269568394e+28\n",
      "9.29560736196959e+28 9.516324973114338e+28\n",
      "-4.0641109168225554e+29 -4.1606103512391036e+29\n",
      "1.776860499918597e+30 1.819050793635607e+30\n",
      "-7.768570545410669e+30 -7.95302974920703e+30\n",
      "3.396478694967167e+31 3.47712567527361e+31\n",
      "-1.4849665659766554e+32 -1.5202260450305062e+32\n",
      "6.492387852560388e+32 6.646545002453032e+32\n",
      "-2.838521822230462e+33 -2.905920511889854e+33\n",
      "1.2410235368333767e+34 1.2704907614867028e+34\n",
      "-5.425850197495428e+34 -5.554683166379206e+34\n",
      "2.3722233698146097e+35 2.4285501330801663e+35\n",
      "-1.0371542728717816e+36 -1.0617807662877345e+36\n",
      "4.534518120948532e+36 4.6421870411573427e+36\n",
      "-1.9825261416777255e+37 -2.02959982035023e+37\n",
      "8.667756523626827e+37 8.873566261429034e+37\n",
      "-3.7896097092215965e+38 -3.879591306939716e+38\n",
      "1.656846464143354e+39 1.6961871096073056e+39\n",
      "-7.243859965484937e+39 -7.41586028830302e+39\n",
      "3.1670712003291155e+40 3.24227106220386e+40\n",
      "-1.384667847769836e+41 -1.4175458048185663e+41\n",
      "6.053874154923663e+41 6.1976191077400184e+41\n",
      "-2.646800266409066e+42 -2.7096466635545786e+42\n",
      "1.157201400456175e+43 1.18467832786675e+43\n",
      "-5.059373380804891e+43 -5.179504617314431e+43\n",
      "2.2119968914924002e+44 2.264519190545957e+44\n",
      "-9.671020262184387e+44 -9.900651786675706e+44\n",
      "4.228244319479067e+45 4.328640985257992e+45\n",
      "-1.8486208838909926e+46 -1.8925150770852994e+46\n",
      "8.082312454401758e+46 8.27422123755017e+46\n",
      "-3.5336490667077038e+47 -3.6175530603099396e+47\n",
      "1.5449385057915913e+48 1.5816219760679872e+48\n",
      "-6.754589778495936e+48 -6.914972727357544e+48\n",
      "2.9531585176191077e+49 3.023279174393766e+49\n",
      "-1.2911435803179523e+50 -1.3218008698952386e+50\n",
      "5.644978876177191e+50 5.7790149002900254e+50\n",
      "-2.468028110757407e+51 -2.526629689721801e+51\n",
      "1.0790408412677253e+52 1.1046619015748346e+52\n",
      "-4.717649414319038e+52 -4.82966665734578e+52\n",
      "2.062592549349361e+53 2.1115673481473263e+53\n",
      "-9.01781300602553e+53 -9.231934586997542e+53\n",
      "3.942657091304615e+54 4.0362726906807133e+54\n",
      "-1.723759954794804e+55 -1.7646894136880284e+55\n",
      "7.536410884698505e+55 7.715357621829567e+55\n",
      "-3.294976708619691e+56 -3.3732135961714936e+56\n",
      "1.4405891181423541e+57 1.4747948861374999e+57\n",
      "-6.29836624301825e+57 -6.447916487250938e+57\n",
      "2.7536940847051327e+58 2.81907859983495e+58\n",
      "-1.203936198620653e+59 -1.2325228107034095e+59\n",
      "5.263701507004392e+59 5.388684370110054e+59\n",
      "-2.3013307172409674e+60 -2.3559741846965283e+60\n",
      "1.006159460803256e+61 1.0300500043655573e+61\n",
      "-4.399006422586663e+61 -4.503457713523935e+61\n",
      "1.9232793866003957e+62 1.9689462930481776e+62\n",
      "-8.408725161048847e+62 -8.608384382662765e+62\n",
      "3.6763592084786814e+63 3.763651753291319e+63\n",
      "-1.607332475602063e+64 -1.6454974464873105e+64\n",
      "Final M and C are:\n",
      "-1.607332475602063e+64 -1.6454974464873105e+64\n"
     ]
    }
   ],
   "source": [
    "#build model\n",
    "m=0 #slope\n",
    "c=0  #intercept\n",
    "L=0.001  #learning rate\n",
    "\n",
    "epoch=100   #Number of iteration to perform Gradient Descent\n",
    "\n",
    "n = float(len(X))\n",
    "\n",
    "\n",
    "#performing Gradient Descent\n",
    "\n",
    "for i in range(epoch):\n",
    "    \n",
    "    y_pred = m*X + c   #current predicted value of Y\n",
    "    D_m = (-2/n) * sum(X *(y-y_pred))   #derivative of error w.r.t m\n",
    "    D_c = (-2/n) * sum(y-y_pred)   #derivative of error w.r.t c\n",
    "    \n",
    "    m = m - L * D_m   #update m\n",
    "    c = m - L * D_c   #update y\n",
    "    print(m ,c)\n",
    "    \n",
    "print('Final M and C are:')\n",
    "print(m,c)\n"
   ]
  },
  {
   "cell_type": "code",
   "execution_count": null,
   "metadata": {},
   "outputs": [],
   "source": []
  },
  {
   "cell_type": "code",
   "execution_count": null,
   "metadata": {},
   "outputs": [],
   "source": []
  }
 ],
 "metadata": {
  "kernelspec": {
   "display_name": "Python 3",
   "language": "python",
   "name": "python3"
  },
  "language_info": {
   "codemirror_mode": {
    "name": "ipython",
    "version": 3
   },
   "file_extension": ".py",
   "mimetype": "text/x-python",
   "name": "python",
   "nbconvert_exporter": "python",
   "pygments_lexer": "ipython3",
   "version": "3.6.5"
  }
 },
 "nbformat": 4,
 "nbformat_minor": 2
}
